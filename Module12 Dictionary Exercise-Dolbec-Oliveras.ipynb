{
 "cells": [
  {
   "cell_type": "markdown",
   "metadata": {},
   "source": [
    "### Exercise 1. \n",
    "Create a dictionary named pairs with key value pairs of:\n",
    "    - 'hello' and 'fire', \n",
    "    - 3 and 'seven', \n",
    "    - 'strong' and 45. \n",
    "\n",
    "Then, print out the dictionary."
   ]
  },
  {
   "cell_type": "code",
   "execution_count": 2,
   "metadata": {},
   "outputs": [
    {
     "name": "stdout",
     "output_type": "stream",
     "text": [
      "{'hello': 'fire', 3: 'seven', 'strong': 45}\n"
     ]
    }
   ],
   "source": [
    "pairs = {'hello': 'fire', 3: 'seven' , 'strong': 45}\n",
    "print(pairs)"
   ]
  },
  {
   "cell_type": "markdown",
   "metadata": {},
   "source": [
    "### Exercise 2. \n",
    "Add 'welcome' and 56 pair into <b><i>pairs</i></b> dictionary from exercise 1. Then, print out the dictionary. "
   ]
  },
  {
   "cell_type": "code",
   "execution_count": 3,
   "metadata": {},
   "outputs": [
    {
     "name": "stdout",
     "output_type": "stream",
     "text": [
      "{'hello': 'fire', 3: 'seven', 'strong': 45, 'welcome': 56}\n"
     ]
    }
   ],
   "source": [
    "pairs['welcome'] = 56\n",
    "print(pairs)"
   ]
  },
  {
   "cell_type": "markdown",
   "metadata": {},
   "source": [
    "### Exercise 3. \n",
    "Delete one item from <b><i>pairs</i></b> dictionary. Then, print deleted item and the dictionary."
   ]
  },
  {
   "cell_type": "code",
   "execution_count": 4,
   "metadata": {},
   "outputs": [
    {
     "name": "stdout",
     "output_type": "stream",
     "text": [
      "{'hello': 'fire', 3: 'seven', 'strong': 45, 'welcome': 56}\n",
      "fire\n",
      "{3: 'seven', 'strong': 45, 'welcome': 56}\n"
     ]
    }
   ],
   "source": [
    "print(pairs)\n",
    "item = pairs.pop('hello')\n",
    "print(item)\n",
    "print(pairs)"
   ]
  },
  {
   "cell_type": "markdown",
   "metadata": {},
   "source": [
    "### Exercise 4. \n",
    "Print the value of an item where key is 3 in <b><i>pairs</i></b> dicitonary"
   ]
  },
  {
   "cell_type": "code",
   "execution_count": 10,
   "metadata": {},
   "outputs": [
    {
     "name": "stdout",
     "output_type": "stream",
     "text": [
      "3:\tseven\n"
     ]
    }
   ],
   "source": [
    "value = pairs.get(3)\n",
    "print(f\"3:\\t{value}\")"
   ]
  },
  {
   "cell_type": "markdown",
   "metadata": {},
   "source": [
    "### Exercise 5. \n",
    "Try to find out if the key called 'hello' exist in <b><i>pairs</i></b> dictionary. Print 'key is found' message if the key exists otherwise print 'key is not there'."
   ]
  },
  {
   "cell_type": "code",
   "execution_count": 11,
   "metadata": {},
   "outputs": [
    {
     "name": "stdout",
     "output_type": "stream",
     "text": [
      "key is not there\n"
     ]
    }
   ],
   "source": [
    "key = 'hello'\n",
    "if key in pairs :\n",
    "    pair = pairs[key]  # pair = pairs['hello']\n",
    "else :\n",
    "    pair = \"key is not there\"\n",
    "    \n",
    "print(pair)    "
   ]
  },
  {
   "cell_type": "markdown",
   "metadata": {},
   "source": [
    "### Exercise 6. \n",
    "Create a Test Scores program that gets the name of students and test score from a user. Then, generate a list of students who passed and a list of students who failed where passing test score is 60 or above. "
   ]
  },
  {
   "cell_type": "code",
   "execution_count": 13,
   "metadata": {},
   "outputs": [
    {
     "name": "stdin",
     "output_type": "stream",
     "text": [
      "Enter the number of students:  3\n",
      "Enter the name of student 1:  mark\n",
      "Enter the test score for mark:  80\n",
      "Enter the name of student 2:  rachel\n",
      "Enter the test score for rachel:  100\n",
      "Enter the name of student 3:  tom\n",
      "Enter the test score for tom:  20\n"
     ]
    },
    {
     "name": "stdout",
     "output_type": "stream",
     "text": [
      "\n",
      "Students who passed:\n",
      "mark\n",
      "rachel\n",
      "\n",
      "Students who failed:\n",
      "tom\n"
     ]
    }
   ],
   "source": [
    "def main():\n",
    "    num_students = int(input(\"Enter the number of students: \"))\n",
    "\n",
    "    # Dictionary to store student names and their test scores\n",
    "    student_scores = {}\n",
    "\n",
    "    # Get student names and test scores from the user\n",
    "    for i in range(num_students):\n",
    "        name = input(f\"Enter the name of student {i+1}: \")\n",
    "        score = int(input(f\"Enter the test score for {name}: \"))\n",
    "        student_scores[name] = score\n",
    "\n",
    "    # Generate lists of students who passed and failed\n",
    "    passed_students = []\n",
    "    failed_students = []\n",
    "    for name, score in student_scores.items():\n",
    "        if score >= 60:\n",
    "            passed_students.append(name)\n",
    "        else:\n",
    "            failed_students.append(name)\n",
    "\n",
    "    # Print out the lists of passed and failed students\n",
    "    print(\"\\nStudents who passed:\")\n",
    "    for student in passed_students:\n",
    "        print(student)\n",
    "    \n",
    "    print(\"\\nStudents who failed:\")\n",
    "    for student in failed_students:\n",
    "        print(student)\n",
    "\n",
    "if __name__ == \"__main__\":\n",
    "    main()"
   ]
  },
  {
   "cell_type": "code",
   "execution_count": null,
   "metadata": {},
   "outputs": [],
   "source": []
  },
  {
   "cell_type": "markdown",
   "metadata": {},
   "source": [
    "### Exercise 7. \n",
    "\n",
    "Create a Word Counter program that gets a string of text from a user and then counts the number of times a word occrs in the string. \n",
    "\n",
    "The output should look something like this:\n",
    "\n",
    "    The Word Counter Program\n",
    "    \n",
    "    Enter a text string: \n",
    "    Humpty Dumpty sat on a wall, Humpty Dumpty had a great fall. All the king’s horses and all the king’s men couldn’t put Humpty together again.\n",
    "\n",
    "    a : 2\n",
    "    again : 1\n",
    "    all : 2\n",
    "    and : 1\n",
    "    couldn’t : 1\n",
    "    dumpty : 2\n",
    "    fall : 1\n",
    "    great : 1\n",
    "    had : 1\n",
    "    horses : 1\n",
    "    humpty : 3\n",
    "    king’s : 2\n",
    "    men : 1\n",
    "    on : 1\n",
    "    put : 1\n",
    "    sat : 1\n",
    "    the : 2\n",
    "    together : 1\n",
    "    wall : 1\n",
    "\n",
    "    There were total 26 words in the text string   "
   ]
  },
  {
   "cell_type": "code",
   "execution_count": 14,
   "metadata": {},
   "outputs": [
    {
     "name": "stdout",
     "output_type": "stream",
     "text": [
      "The Word Counter Program\n",
      "\n"
     ]
    },
    {
     "name": "stdin",
     "output_type": "stream",
     "text": [
      "Enter a text string:  Humpty Dumpty sat on a wall, Humpty Dumpty had a great fall. All the king’s horses and all the king’s men couldn’t put Humpty together again.\n"
     ]
    },
    {
     "name": "stdout",
     "output_type": "stream",
     "text": [
      "humpty : 3\n",
      "dumpty : 2\n",
      "sat : 1\n",
      "on : 1\n",
      "a : 2\n",
      "wall, : 1\n",
      "had : 1\n",
      "great : 1\n",
      "fall. : 1\n",
      "all : 2\n",
      "the : 2\n",
      "king’s : 2\n",
      "horses : 1\n",
      "and : 1\n",
      "men : 1\n",
      "couldn’t : 1\n",
      "put : 1\n",
      "together : 1\n",
      "again. : 1\n",
      "\n",
      "There were total 26 words in the text string.\n"
     ]
    }
   ],
   "source": [
    "def word_counter(text):\n",
    "    # Split the text into words\n",
    "    words = text.split()\n",
    "\n",
    "    # Initialize an empty dictionary to store word counts\n",
    "    word_counts = {}\n",
    "\n",
    "    # Count the occurrences of each word\n",
    "    for word in words:\n",
    "        # Convert the word to lowercase to avoid case sensitivity\n",
    "        word = word.lower()\n",
    "        # Update the word count in the dictionary\n",
    "        if word in word_counts:\n",
    "            word_counts[word] += 1\n",
    "        else:\n",
    "            word_counts[word] = 1\n",
    "\n",
    "    return word_counts\n",
    "\n",
    "def main():\n",
    "    print(\"The Word Counter Program\\n\")\n",
    "    text = input(\"Enter a text string: \")\n",
    "\n",
    "    # Call the word_counter function to get the word counts\n",
    "    counts = word_counter(text)\n",
    "\n",
    "    # Print the word counts\n",
    "    total_words = 0\n",
    "    for word, count in counts.items():\n",
    "        print(f\"{word} : {count}\")\n",
    "        total_words += count\n",
    "\n",
    "    print(f\"\\nThere were total {total_words} words in the text string.\")\n",
    "\n",
    "if __name__ == \"__main__\":\n",
    "    main()"
   ]
  },
  {
   "cell_type": "code",
   "execution_count": null,
   "metadata": {},
   "outputs": [],
   "source": []
  }
 ],
 "metadata": {
  "kernelspec": {
   "display_name": "Python 3 (ipykernel)",
   "language": "python",
   "name": "python3"
  },
  "language_info": {
   "codemirror_mode": {
    "name": "ipython",
    "version": 3
   },
   "file_extension": ".py",
   "mimetype": "text/x-python",
   "name": "python",
   "nbconvert_exporter": "python",
   "pygments_lexer": "ipython3",
   "version": "3.11.7"
  }
 },
 "nbformat": 4,
 "nbformat_minor": 4
}
